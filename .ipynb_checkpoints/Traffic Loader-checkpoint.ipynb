{
 "cells": [
  {
   "cell_type": "code",
   "execution_count": 12,
   "id": "890a9d04-193d-4a5e-8492-6f4d4ab44ba6",
   "metadata": {},
   "outputs": [
    {
     "name": "stdout",
     "output_type": "stream",
     "text": [
      "tensor([], size=(2, 0))\n",
      "tensor([], size=(2, 0))\n",
      "tensor([], size=(2, 0))\n",
      "tensor([], size=(2, 0))\n",
      "tensor([], size=(2, 0))\n"
     ]
    }
   ],
   "source": [
    "import os\n",
    "import numpy as np\n",
    "import cv2\n",
    "import json\n",
    "import pandas as pd\n",
    "import matplotlib.pyplot as plt\n",
    "import torch\n",
    "from torch.utils.data import Dataset, DataLoader\n",
    "\n",
    "class RoadLoad(Dataset):\n",
    "    def __init__(self):\n",
    "        self.image_dir = './data/road-images'\n",
    "        self.image_ls = os.listdir(self.image_dir)\n",
    "        # set size for images(not all images have the same size)\n",
    "        self.img_dim = (1280//2, 960//2)\n",
    "        \n",
    "    def __len__(self):\n",
    "        return len(self.image_ls)\n",
    "    \n",
    "    def __getitem__(self, idx):\n",
    "        image_file = self.image_ls[idx]\n",
    "        img = cv2.imread(os.path.join(self.image_dir, image_file))\n",
    "        # get label and filename from the loaded dataframe\n",
    "        img = cv2.resize(img, self.img_dim, interpolation = cv2.INTER_AREA)\n",
    "        # tgt = cv2.resize(tgt, self.img_dim, interpolation = cv2.INTER_AREA)[:,:,np.newaxis]\n",
    "\n",
    "        img_tensor = torch.Tensor(img)[:,:,[2,1,0]]\n",
    "        img_tensor = img_tensor.permute(2, 0, 1)\n",
    "        # create sensor for label\n",
    "        tgt = 0\n",
    "        tgt_tensor = torch.Tensor(tgt)\n",
    "        return img_tensor, tgt_tensor\n",
    "\n",
    "    \n",
    "    \n",
    "dataset = RoadLoad()\n",
    "road_loader = DataLoader(dataset, batch_size=2, shuffle=True)\n"
   ]
  }
 ],
 "metadata": {
  "kernelspec": {
   "display_name": "Python 3 (ipykernel)",
   "language": "python",
   "name": "python3"
  },
  "language_info": {
   "codemirror_mode": {
    "name": "ipython",
    "version": 3
   },
   "file_extension": ".py",
   "mimetype": "text/x-python",
   "name": "python",
   "nbconvert_exporter": "python",
   "pygments_lexer": "ipython3",
   "version": "3.9.12"
  }
 },
 "nbformat": 4,
 "nbformat_minor": 5
}
