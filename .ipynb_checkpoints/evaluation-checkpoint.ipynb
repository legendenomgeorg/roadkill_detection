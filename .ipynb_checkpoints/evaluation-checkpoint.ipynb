{
 "cells": [
  {
   "cell_type": "code",
   "execution_count": 6,
   "id": "3eaaf68d-a7a3-4c27-bcfc-58d6f76ff434",
   "metadata": {},
   "outputs": [],
   "source": [
    "import torch\n",
    "import torchvision\n",
    "import torchvision.transforms as transforms\n",
    "import torch.nn as nn\n",
    "from torch.nn import functional as F\n",
    "import torch.optim as optim\n",
    "import math\n",
    "import numpy as np\n",
    "import os\n",
    "import cv2\n",
    "from PIL import Image\n",
    "from torch.utils.data import Dataset, DataLoader, random_split\n",
    "from CustomDataset import CustomDataset\n",
    "import matplotlib.pyplot as plt"
   ]
  },
  {
   "cell_type": "code",
   "execution_count": 7,
   "id": "0efae332-4244-48e5-adfe-4e7b8e4e49ec",
   "metadata": {},
   "outputs": [],
   "source": [
    "dataset = CustomDataset(target_type = 'poly')\n",
    "torch.manual_seed(0)\n",
    "TRAIN_SIZE= math.floor(dataset.__len__()*0.75)\n",
    "TEST_SIZE = dataset.__len__() - TRAIN_SIZE\n",
    "trainset, testset = random_split(dataset,[TRAIN_SIZE,TEST_SIZE])\n",
    "\n",
    "\n",
    "traindata_loader = DataLoader(trainset, batch_size=5, shuffle=True)\n",
    "testdata_loader = DataLoader(testset, batch_size=5, shuffle=True)"
   ]
  },
  {
   "cell_type": "code",
   "execution_count": 8,
   "id": "c13a11ee-c5f1-4141-ba25-306212e4cdf3",
   "metadata": {},
   "outputs": [],
   "source": [
    "# Evaluate\n",
    "model = torchvision.models.segmentation.fcn_resnet50(pretrained=True)\n",
    "model.classifier[4] = nn.Conv2d(512, 2, kernel_size=(1, 1), stride=(1, 1))\n",
    "model.load_state_dict(torch.load('models/pytorch/weights_.h5'))\n",
    "model.eval();\n"
   ]
  },
  {
   "cell_type": "code",
   "execution_count": 9,
   "id": "14aabb3a-b242-4500-92cd-fcfb7a58bb65",
   "metadata": {},
   "outputs": [],
   "source": [
    "def evaluate():\n",
    "    running_loss = 0\n",
    "    total_test = 0\n",
    "    correct_test = 0\n",
    "    model.eval();\n",
    "    for batch, (t_image, mask) in enumerate(testdata_loader):\n",
    "        outputs = model(t_image)[\"out\"] # forward\n",
    "        # accuracy\n",
    "        _, predicted = torch.max(outputs.data, 1)\n",
    "        #print(mask.shape, predicted.shape)\n",
    "        total_test+= mask.nelement()\n",
    "        correct_test += predicted.eq(mask.data).sum().item()\n",
    "        #print(correct_test, total_test)\n",
    "        #print(\"Total_test: \", total_test, \"Correct_test: \", correct_test)\n",
    "        test_accuracy = 100 * correct_test / total_test\n",
    "        #avg_accuracy = train_accuracy / len(train_loader)\n",
    "    avg_acc = test_accuracy / TRAIN_SIZE\n",
    "    print(\"test Accuracy: %d %%\" % (test_accuracy))\n",
    "#evaluate()"
   ]
  },
  {
   "cell_type": "code",
   "execution_count": 11,
   "id": "e814c1e7-4484-4f55-a710-ad79c387bad2",
   "metadata": {},
   "outputs": [
    {
     "name": "stdout",
     "output_type": "stream",
     "text": [
      "0\n"
     ]
    },
    {
     "data": {
      "image/png": "[encoded data removed]",
      "text/plain": [
       "<Figure size 432x288 with 1 Axes>"
      ]
     },
     "metadata": {
      "needs_background": "light"
     },
     "output_type": "display_data"
    },
    {
     "data": {
      "image/png": "[encoded data removed]",
      "text/plain": [
       "<Figure size 432x288 with 1 Axes>"
      ]
     },
     "metadata": {
      "needs_background": "light"
     },
     "output_type": "display_data"
    }
   ],
   "source": [
    "def plot_images_eval(n, DataLoader = testdata_loader):\n",
    "    for batch, (t_image, mask) in enumerate(DataLoader):\n",
    "        outputs = model(t_image)[\"out\"] # forward\n",
    "        _, predicted = torch.max(outputs.data, 1)\n",
    "        plt1 = plt.figure()\n",
    "        plt1 = plt.imshow(predicted[0])\n",
    "        plt2 = plt.figure()\n",
    "        plt2 = plt.imshow(mask.data[0])\n",
    "        print(batch)\n",
    "        if batch+1 == n:\n",
    "            break\n",
    "plot_images_eval(1,traindata_loader)"
   ]
  },
  {
   "cell_type": "code",
   "execution_count": null,
   "id": "a8ba1b18-9519-4d3a-96fd-e518133c7bee",
   "metadata": {},
   "outputs": [],
   "source": []
  }
 ],
 "metadata": {
  "kernelspec": {
   "display_name": "Python 3 (ipykernel)",
   "language": "python",
   "name": "python3"
  },
  "language_info": {
   "codemirror_mode": {
    "name": "ipython",
    "version": 3
   },
   "file_extension": ".py",
   "mimetype": "text/x-python",
   "name": "python",
   "nbconvert_exporter": "python",
   "pygments_lexer": "ipython3",
   "version": "3.9.12"
  }
 },
 "nbformat": 4,
 "nbformat_minor": 5
}
