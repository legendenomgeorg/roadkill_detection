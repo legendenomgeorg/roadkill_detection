{
 "cells": [
  {
   "cell_type": "code",
   "execution_count": 1,
   "id": "3eaaf68d-a7a3-4c27-bcfc-58d6f76ff434",
   "metadata": {},
   "outputs": [
    {
     "data": {
      "text/plain": [
       "<torch._C.Generator at 0x7f2a50b09fb0>"
      ]
     },
     "execution_count": 1,
     "metadata": {},
     "output_type": "execute_result"
    }
   ],
   "source": [
    "import torch\n",
    "import torchvision\n",
    "import torchvision.transforms as transforms\n",
    "import torch.nn as nn\n",
    "from torch.nn import functional as F\n",
    "import torch.optim as optim\n",
    "import math\n",
    "import numpy as np\n",
    "import pandas as pd\n",
    "import os\n",
    "import cv2\n",
    "from PIL import Image\n",
    "from torch.utils.data import Dataset, DataLoader, random_split\n",
    "from CustomDataset import CustomDataset\n",
    "import matplotlib.pyplot as plt\n",
    "from sklearn.metrics import f1_score, roc_auc_score\n",
    "import tqdm\n",
    "\n",
    "torch.manual_seed(0)"
   ]
  },
  {
   "cell_type": "code",
   "execution_count": 2,
   "id": "0efae332-4244-48e5-adfe-4e7b8e4e49ec",
   "metadata": {},
   "outputs": [
    {
     "name": "stdout",
     "output_type": "stream",
     "text": [
      "[1155, 808, 173, 174]\n"
     ]
    }
   ],
   "source": [
    "# Create the dataloader\n",
    "normalize = transforms.Normalize(mean=[0.485,0.456,0.406],\n",
    "                    std=[0.229,0.224,0.225])\n",
    "data_transforms = {\n",
    "    'Train':\n",
    "    transforms.Compose([\n",
    "        transforms.ToTensor(),\n",
    "        normalize\n",
    "    ]),\n",
    "    'Validation':\n",
    "    transforms.Compose([\n",
    "        transforms.ToTensor(),\n",
    "        normalize\n",
    "    ]),\n",
    "}\n",
    "dataset = CustomDataset(target_type = 'poly')\n",
    "\n",
    "batch_size = 2\n",
    "TRAIN_SIZE= math.floor(dataset.__len__()*0.70)\n",
    "VALIDATION_SIZE = math.floor((dataset.__len__() - TRAIN_SIZE)/2)\n",
    "TEST_SIZE = math.floor(dataset.__len__() - (TRAIN_SIZE+VALIDATION_SIZE))\n",
    "print([dataset.__len__(),TRAIN_SIZE, VALIDATION_SIZE, TEST_SIZE])\n",
    "image_datasets = {\n",
    "    'Train': \n",
    "        TRAIN_SIZE,\n",
    "    'Validation':\n",
    "        VALIDATION_SIZE,\n",
    "    'Test':\n",
    "        TEST_SIZE}\n",
    "\n",
    "trainset, validationset, testset = random_split(dataset,[TRAIN_SIZE, VALIDATION_SIZE, TEST_SIZE])\n",
    "test_dataloader = DataLoader(testset, batch_size=1, shuffle=True)\n",
    "\n"
   ]
  },
  {
   "cell_type": "code",
   "execution_count": 3,
   "id": "dc671421-c793-482e-adc4-ad2f617cf886",
   "metadata": {},
   "outputs": [
    {
     "data": {
      "text/plain": [
       "174"
      ]
     },
     "execution_count": 3,
     "metadata": {},
     "output_type": "execute_result"
    }
   ],
   "source": [
    "test_dataloader.__len__()"
   ]
  },
  {
   "cell_type": "code",
   "execution_count": 4,
   "id": "c13a11ee-c5f1-4141-ba25-306212e4cdf3",
   "metadata": {},
   "outputs": [],
   "source": [
    "# Evaluate\n",
    "model = torch.load('models/pytorch/weights_deeplab_lr0.0001_beta_0.7_0.9999_200epochs.pt')\n",
    "model.eval();\n",
    "model.to(\"cpu\");"
   ]
  },
  {
   "cell_type": "code",
   "execution_count": null,
   "id": "14aabb3a-b242-4500-92cd-fcfb7a58bb65",
   "metadata": {},
   "outputs": [
    {
     "name": "stderr",
     "output_type": "stream",
     "text": [
      " 30%|███       | 53/174 [00:55<02:43,  1.35s/it]"
     ]
    }
   ],
   "source": [
    "def evaluate():\n",
    "    running_loss = 0\n",
    "    metrics_roc = 0\n",
    "    model.eval();\n",
    "    for (t_image, mask) in tqdm.tqdm(iter(test_dataloader)):\n",
    "        outputs = model(t_image)[\"out\"] # forward\n",
    "        \n",
    "        preds = torch.squeeze(outputs).float()\n",
    "        \n",
    "        running_loss += torchvision.ops.sigmoid_focal_loss(preds, torch.squeeze(mask), reduction = 'mean')\n",
    "        #print(running_loss)\n",
    "        try:\n",
    "            metrics_roc += roc_auc_score(mask.int().ravel().detach().numpy(),preds.ravel().numpy())\n",
    "        except:\n",
    "            metrics_roc += 0.5\n",
    "    return running_loss/test_dataloader.__len__(), metrics_roc\n",
    "loss, roc = evaluate()"
   ]
  },
  {
   "cell_type": "code",
   "execution_count": null,
   "id": "675500b7-6840-4f23-89ea-7e80600ec594",
   "metadata": {},
   "outputs": [],
   "source": []
  },
  {
   "cell_type": "code",
   "execution_count": null,
   "id": "e814c1e7-4484-4f55-a710-ad79c387bad2",
   "metadata": {},
   "outputs": [],
   "source": [
    "def plot_images_eval(n, DataLoader = test_dataloader):\n",
    "    for batch, (t_image, mask) in enumerate(DataLoader):\n",
    "        outputs = model(t_image)[\"out\"] # forward\n",
    "        _, predicted = torch.max(outputs.data, 1)\n",
    "        plt1 = plt.figure()\n",
    "        plt1 = plt.imshow(predicted[0])\n",
    "        plt2 = plt.figure()\n",
    "        plt2 = plt.imshow(mask.data[0])\n",
    "        print(batch)\n",
    "        if batch+1 == n:\n",
    "            break\n",
    "plot_images_eval(1,test_dataloader)"
   ]
  },
  {
   "cell_type": "code",
   "execution_count": null,
   "id": "a8ba1b18-9519-4d3a-96fd-e518133c7bee",
   "metadata": {},
   "outputs": [],
   "source": [
    "# hyper parameter evaluation:\n",
    "def plot_loss_hpt(path_to_dir):\n",
    "    filenames = os.listdir(path_to_dir)\n",
    "    filenames = [ os.path.join(path_to_dir, filename) for filename in filenames if filename.endswith(\".csv\") ]\n",
    "    y_low = 1\n",
    "    for filename in filenames:\n",
    "        y = pd.read_csv(filename)[\"Validation_loss\"].values\n",
    "        #print(filename, y)\n",
    "        x = np.arange(0,len(y))+1\n",
    "        name = os.path.splitext(os.path.basename(filename))[0]\n",
    "        #print(name, y)\n",
    "        #with plt.style.context(\"fivethirtyeight\"):\n",
    "        line = plt.plot(x,y,label=name)\n",
    "        if y[-1] < y_low:\n",
    "            y_low = y[-1]\n",
    "            filename_low = filename\n",
    "            \n",
    "    print(filename_low, y_low)\n",
    "    plt.legend()\n",
    "    #plt.rcParams['figure.figsize'] = [40, 2]\n",
    "    plt.show()\n",
    "    plt.savefig(\"hpt_plot.png\")\n",
    "exp_directory = 'models/pytorch/hpt/'\n",
    "plot_loss_hpt(exp_directory)"
   ]
  }
 ],
 "metadata": {
  "kernelspec": {
   "display_name": "Python 3 (ipykernel)",
   "language": "python",
   "name": "python3"
  },
  "language_info": {
   "codemirror_mode": {
    "name": "ipython",
    "version": 3
   },
   "file_extension": ".py",
   "mimetype": "text/x-python",
   "name": "python",
   "nbconvert_exporter": "python",
   "pygments_lexer": "ipython3",
   "version": "3.9.12"
  }
 },
 "nbformat": 4,
 "nbformat_minor": 5
}
